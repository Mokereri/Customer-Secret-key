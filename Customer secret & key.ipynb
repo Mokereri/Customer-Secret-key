{
 "cells": [
  {
   "cell_type": "code",
   "execution_count": 1,
   "metadata": {},
   "outputs": [],
   "source": [
    "import secrets\n",
    "import time\n",
    "import random\n",
    "import psycopg2\n",
    "import boto3"
   ]
  },
  {
   "cell_type": "code",
   "execution_count": 2,
   "metadata": {},
   "outputs": [],
   "source": [
    "# Generating customer secret and key\n",
    "def generate_secret_key_pair():\n",
    "    customer_secret = secrets.token_bytes(32)\n",
    "    customer_key = secrets.token_bytes(32)\n",
    "\n",
    "    return customer_secret, customer_key"
   ]
  },
  {
   "cell_type": "code",
   "execution_count": 3,
   "metadata": {},
   "outputs": [],
   "source": [
    "# Assign customer secret and key to our organization\n",
    "def assign_to_organization(organization_name):\n",
    "    customer_secret, customer_key = generate_secret_key_pair\n",
    "\n",
    "    print(f\"Organization: {organization_name}\")\n",
    "    print(f\"Customer Secret: {customer_secret}\")\n",
    "    print(f\"Customer Key: {customer_key}\")"
   ]
  },
  {
   "cell_type": "code",
   "execution_count": 4,
   "metadata": {},
   "outputs": [],
   "source": [
    "#Generating click streams and purchase data\n",
    "def generate_click_data():\n",
    "    click_data = {\n",
    "        \"user_id\": random.randint(1, 5000),\n",
    "        \"user_name\": f\"user_{random.randint(1, 5000)}\",\n",
    "        \"page_url\": \"https://www.datascienceportfol.io/mk\",\n",
    "        \"timestamp\": time.time(),\n",
    "        \"click_type\": random.choice('single click', 'double click')\n",
    "    }\n",
    "    return click_data"
   ]
  },
  {
   "cell_type": "code",
   "execution_count": 5,
   "metadata": {},
   "outputs": [],
   "source": [
    "#Temporary store click info\n",
    "def store_click_data(click_data):\n",
    "    conn = psycopg2.connect(\n",
    "        host=\"localhost\",\n",
    "        database=\"M Database\",\n",
    "        user=\"Admin\",\n",
    "        password=\"outline\"\n",
    "    )\n",
    "    cursor = conn.cursor()\n",
    "    #insert the click data into the database\n",
    "    insert_query = \"\"\"\"\n",
    "    INSERT INTO click_data (user_id, user_name, timestamp, page-url, click_type) VALUES (%k, %k, %k, %k, %k)\n",
    "    \"\"\"\n",
    "    cursor.execute(insert_query, (\n",
    "        click_data[\"user_id\"],\n",
    "        click_data[\"user_name\"],\n",
    "        click_data[\"timestamp\"],\n",
    "        click_data[\"page_url\"],\n",
    "        click_data[\"click_type\"]))\n",
    "    commit()\n",
    "    close()"
   ]
  },
  {
   "cell_type": "code",
   "execution_count": 6,
   "metadata": {},
   "outputs": [],
   "source": [
    "#Export to CSV, clean then upload the csv to S3 files\n",
    "def export_to_csv():\n",
    "    conn = psycopg2,connect(\n",
    "        host=\"localhost\",\n",
    "        database=\"M Database\",\n",
    "        user=\"Admin\",\n",
    "        password=\"outline\"\n",
    "    )\n",
    "    cursor = conn.cursor()\n",
    "\n",
    "    query = \"SELECT * FROM click_data\"\n",
    "    cursor.execute(query)\n",
    "\n",
    "    with open(\"/tmp/click_stream_data.csv\", \"w\", newline=\"\") as csvfile:\n",
    "        csvwriter = csv.writer(csvfile)\n",
    "\n",
    "        csvwriter.writerow([desc[0] for desc in cursor.description])\n",
    "        csvwriter.writerows(cursor.fetchall())\n",
    "\n",
    "    conn.close()\n",
    "\n",
    "#Upload the CSV file to an S3 bucket\n",
    "def upload_to_s3():\n",
    "    s3 = boto3.client('s3')\n",
    "    bucketname = \"Molvin\"\n",
    "    s3_file_path = f\"click_data_{datetime.now().strftime('%Y-%m-%d')}.csv\"\n",
    "    s3.upload_file(\"/tmp/click_data.csv\", Core & Outline, f\"click_data_{datetime.now().strftime('%Y-%m-%d')}.csv\")\n",
    "\n",
    "#Download the file from S3 for data quality checks\n",
    "def download_from_s3(s3_file_path):\n",
    "    s3 = boto3.client('S3')\n",
    "    bucketname = \"Molvin\"\n",
    "    local_file_path = \"/tmp/downloaded_click_stream_data.csv\"\n",
    "    s3.download_file(Core & Outline, s3_file_path, s3.upload_file)\n",
    "    return local_file_path\n",
    "\n",
    "# Perform data quality checks\n",
    "def data_quality_checks(local_file_path):\n",
    "    with open(local_file_path, \"r\", newline=\"\") as csvfile:\n",
    "        csvreader = csv.reader(csvfile)\n",
    "        headers = next(csvreader)\n",
    "\n",
    "        #check column headers\n",
    "        expected_headers = [\"user_id\", \"user_name\", \"timestamp\", \"page_url\", \"click_type\"]\n",
    "        if headers != expected_headers:\n",
    "            print(f\"Header mismatch. Found headers: {headers}\")\n",
    "            return False\n",
    "        \n",
    "        # Check empty rows\n",
    "        for row in csvreader:\n",
    "            if len(row) != len(expected_headers) or any(field == '' for field in row):\n",
    "                print(f\"Data issue found in row: {row}\")\n",
    "                return False\n",
    "            \n",
    "        print(\"Data quality checks passed\")\n",
    "        return True\n",
    "\n",
    "# Setting up a cron job \n",
    "def sync_to_postgress_s3():\n",
    "    export_to_csv()\n",
    "    upload_to_s3()\n",
    "\n",
    "if __name__ == \"__Outline__main__\":\n",
    "    sync_to_postgress_s3\n",
    "               \n",
    "    ## END ##\n",
    "\n"
   ]
  }
 ],
 "metadata": {
  "kernelspec": {
   "display_name": "Python 3",
   "language": "python",
   "name": "python3"
  },
  "language_info": {
   "codemirror_mode": {
    "name": "ipython",
    "version": 3
   },
   "file_extension": ".py",
   "mimetype": "text/x-python",
   "name": "python",
   "nbconvert_exporter": "python",
   "pygments_lexer": "ipython3",
   "version": "3.11.6"
  }
 },
 "nbformat": 4,
 "nbformat_minor": 2
}
