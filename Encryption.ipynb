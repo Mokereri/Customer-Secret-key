{
 "cells": [
  {
   "cell_type": "code",
   "execution_count": 1,
   "metadata": {},
   "outputs": [
    {
     "name": "stdout",
     "output_type": "stream",
     "text": [
      "Requirement already satisfied: cryptography in c:\\users\\user\\appdata\\local\\packages\\pythonsoftwarefoundation.python.3.11_qbz5n2kfra8p0\\localcache\\local-packages\\python311\\site-packages (42.0.8)\n",
      "Requirement already satisfied: cffi>=1.12 in c:\\users\\user\\appdata\\local\\packages\\pythonsoftwarefoundation.python.3.11_qbz5n2kfra8p0\\localcache\\local-packages\\python311\\site-packages (from cryptography) (1.16.0)\n",
      "Requirement already satisfied: pycparser in c:\\users\\user\\appdata\\local\\packages\\pythonsoftwarefoundation.python.3.11_qbz5n2kfra8p0\\localcache\\local-packages\\python311\\site-packages (from cffi>=1.12->cryptography) (2.21)\n",
      "Note: you may need to restart the kernel to use updated packages.\n"
     ]
    }
   ],
   "source": [
    "pip install cryptography"
   ]
  },
  {
   "cell_type": "code",
   "execution_count": 5,
   "metadata": {},
   "outputs": [],
   "source": [
    "import os\n",
    "import psycopg2\n",
    "from cryptography.fernet import Fernet\n"
   ]
  },
  {
   "cell_type": "code",
   "execution_count": 7,
   "metadata": {},
   "outputs": [
    {
     "name": "stdout",
     "output_type": "stream",
     "text": [
      "Encryption key generated and saved to 'secret.key'\n"
     ]
    }
   ],
   "source": [
    "# Generate a key for encryption and decryption\n",
    "key = Fernet.generate_key()\n",
    "\n",
    "# Save the key to a file\n",
    "with open(\"secret.key\", \"wb\") as key_file:\n",
    "    key_file.write(key)\n",
    "\n",
    "print(\"Encryption key generated and saved to 'secret.key'\")"
   ]
  },
  {
   "cell_type": "code",
   "execution_count": 8,
   "metadata": {},
   "outputs": [],
   "source": [
    "# Load the key from a file\n",
    "def load_key():\n",
    "    return open(\"secret.key\", \"rb\").read()\n",
    "\n",
    "key = load_key()\n",
    "cipher_suite = Fernet(key)\n",
    "\n",
    "# Encrypt the username and password\n",
    "def encrypt_message(message):\n",
    "    return cipher_suite.encrypt(message.encode())\n",
    "\n",
    "# Decrypt the username and password\n",
    "def decrypt_message(encrypted_message):\n",
    "    return cipher_suite.decrypt(encrypted_message).decode()"
   ]
  },
  {
   "cell_type": "code",
   "execution_count": 9,
   "metadata": {},
   "outputs": [],
   "source": [
    "import snowflake.connector\n",
    "from snowflake.connector import ProgrammingError"
   ]
  },
  {
   "cell_type": "code",
   "execution_count": 12,
   "metadata": {},
   "outputs": [],
   "source": [
    "def connect_to_postgres(user, password, host, port, database):\n",
    "    try:\n",
    "        conn = psycopg2.connect(\n",
    "            user=user,\n",
    "            password=password,\n",
    "            host=host,\n",
    "            port=port,\n",
    "            database=database\n",
    "        )\n",
    "        print(\"Connection to PostgreSQL established successfully.\")\n",
    "        return conn\n",
    "    except Exception as e:\n",
    "        print(f\"Failed to connect to PostgreSQL: {e}\")\n",
    "        return None\n"
   ]
  },
  {
   "cell_type": "code",
   "execution_count": 13,
   "metadata": {},
   "outputs": [],
   "source": [
    "def connect_to_snowflake(user, password, account, warehouse, database, schema):\n",
    "    try:\n",
    "        conn = snowflake.connector.connect(\n",
    "            user=user,\n",
    "            password=password,\n",
    "            account=account,\n",
    "            warehouse=warehouse,\n",
    "            database=database,\n",
    "            schema=schema\n",
    "        )\n",
    "        print(\"Connection to Snowflake established successfully.\")\n",
    "        return conn\n",
    "    except Exception as e:\n",
    "        print(f\"Failed to connect to Snowflake: {e}\")\n",
    "        return None"
   ]
  },
  {
   "cell_type": "code",
   "execution_count": 14,
   "metadata": {},
   "outputs": [],
   "source": [
    "def fetch_data_from_postgres(conn):\n",
    "    try:\n",
    "        cursor = conn.cursor()\n",
    "        fetch_query = \"\"\"\n",
    "        SELECT\n",
    "            meals.id AS product_id,\n",
    "            (ordertable.order_quantity * meals.price) AS amount,\n",
    "            ordertable.created_at AS date,\n",
    "            ordertable.customer_name AS user_id\n",
    "        FROM\n",
    "            public.ordertable\n",
    "        JOIN\n",
    "            public.meals ON ordertable.meal_id = meals.id;\n",
    "        \"\"\"\n",
    "        cursor.execute(fetch_query)\n",
    "        data = cursor.fetchall()\n",
    "        cursor.close()\n",
    "        return data\n",
    "    except Exception as e:\n",
    "        print(f\"Error fetching data from PostgreSQL: {e}\")\n",
    "        return None"
   ]
  },
  {
   "cell_type": "code",
   "execution_count": 16,
   "metadata": {},
   "outputs": [
    {
     "name": "stdout",
     "output_type": "stream",
     "text": [
      "Failed to connect to PostgreSQL: invalid integer value \"postgres_port\" for connection option \"port\"\n",
      "\n"
     ]
    }
   ],
   "source": [
    "def insert_data_to_snowflake(conn, data):\n",
    "    try:\n",
    "        cursor = conn.cursor()\n",
    "        insert_query = \"\"\"\n",
    "        INSERT INTO fact_schema.transaction (product_id, amount, date, user_id)\n",
    "        VALUES (%s, %s, %s, %s);\n",
    "        \"\"\"\n",
    "        cursor.executemany(insert_query, data)\n",
    "        conn.commit()\n",
    "        cursor.close()\n",
    "        print(\"Data inserted into 'transaction' table in schema 'fact_schema' successfully.\")\n",
    "    except Exception as e:\n",
    "        print(f\"Error inserting data into Snowflake: {e}\")\n",
    "\n",
    "def sync_postgres_to_snowflake(pg_details, sf_details):\n",
    "    # PostgreSQL connection details\n",
    "    pg_user, pg_password, pg_host, pg_port, pg_database = pg_details\n",
    "\n",
    "    # Snowflake connection details\n",
    "    sf_user, sf_password, sf_account, sf_warehouse, sf_database, sf_schema = sf_details\n",
    "\n",
    "    # Connect to PostgreSQL\n",
    "    pg_conn = connect_to_postgres(pg_user, pg_password, pg_host, pg_port, pg_database)\n",
    "    if not pg_conn:\n",
    "        return\n",
    "\n",
    "    # Fetch data from PostgreSQL\n",
    "    data = fetch_data_from_postgres(pg_conn)\n",
    "    if not data:\n",
    "        pg_conn.close()\n",
    "        return\n",
    "\n",
    "    # Close PostgreSQL connection\n",
    "    pg_conn.close()\n",
    "\n",
    "    # Connect to Snowflake\n",
    "    sf_conn = connect_to_snowflake(sf_user, sf_password, sf_account, sf_warehouse, sf_database, sf_schema)\n",
    "    if not sf_conn:\n",
    "        return\n",
    "\n",
    "    # Insert data into Snowflake\n",
    "    insert_data_to_snowflake(sf_conn, data)\n",
    "\n",
    "    # Close Snowflake connection\n",
    "    sf_conn.close()\n",
    "\n",
    "if __name__ == \"__main__\":\n",
    "    # PostgreSQL connection details\n",
    "    pg_details = ('postgres_user', 'postgres_password', 'postgres_host', 'postgres_port', 'postgres_database')\n",
    "\n",
    "    # Snowflake connection details\n",
    "    sf_details = ('snowflake_user', 'snowflake_password', 'snowflake_account', 'snowflake_warehouse', 'snowflake_database', 'snowflake_schema')\n",
    "\n",
    "    # Sync data from PostgreSQL to Snowflake\n",
    "    sync_postgres_to_snowflake(pg_details, sf_details)"
   ]
  }
 ],
 "metadata": {
  "kernelspec": {
   "display_name": "Python 3",
   "language": "python",
   "name": "python3"
  },
  "language_info": {
   "codemirror_mode": {
    "name": "ipython",
    "version": 3
   },
   "file_extension": ".py",
   "mimetype": "text/x-python",
   "name": "python",
   "nbconvert_exporter": "python",
   "pygments_lexer": "ipython3",
   "version": "3.11.6"
  }
 },
 "nbformat": 4,
 "nbformat_minor": 2
}
